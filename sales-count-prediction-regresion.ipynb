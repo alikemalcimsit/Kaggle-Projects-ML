{
 "cells": [
  {
   "cell_type": "code",
   "execution_count": 1,
   "id": "4e72115a",
   "metadata": {
    "_cell_guid": "b1076dfc-b9ad-4769-8c92-a6c4dae69d19",
    "_uuid": "8f2839f25d086af736a60e9eeb907d3b93b6e0e5",
    "execution": {
     "iopub.execute_input": "2025-02-17T00:12:02.327115Z",
     "iopub.status.busy": "2025-02-17T00:12:02.326745Z",
     "iopub.status.idle": "2025-02-17T00:12:03.226637Z",
     "shell.execute_reply": "2025-02-17T00:12:03.225298Z"
    },
    "papermill": {
     "duration": 0.907139,
     "end_time": "2025-02-17T00:12:03.228383",
     "exception": false,
     "start_time": "2025-02-17T00:12:02.321244",
     "status": "completed"
    },
    "tags": []
   },
   "outputs": [
    {
     "name": "stdout",
     "output_type": "stream",
     "text": [
      "/kaggle/input/e-commerce-product-sales-dataset-100-products/ecommerce_dataset.csv\n"
     ]
    }
   ],
   "source": [
    "# This Python 3 environment comes with many helpful analytics libraries installed\n",
    "# It is defined by the kaggle/python Docker image: https://github.com/kaggle/docker-python\n",
    "# For example, here's several helpful packages to load\n",
    "\n",
    "import numpy as np # linear algebra\n",
    "import pandas as pd # data processing, CSV file I/O (e.g. pd.read_csv)\n",
    "\n",
    "# Input data files are available in the read-only \"../input/\" directory\n",
    "# For example, running this (by clicking run or pressing Shift+Enter) will list all files under the input directory\n",
    "\n",
    "import os\n",
    "for dirname, _, filenames in os.walk('/kaggle/input'):\n",
    "    for filename in filenames:\n",
    "        print(os.path.join(dirname, filename))\n",
    "\n",
    "# You can write up to 20GB to the current directory (/kaggle/working/) that gets preserved as output when you create a version using \"Save & Run All\" \n",
    "# You can also write temporary files to /kaggle/temp/, but they won't be saved outside of the current session"
   ]
  },
  {
   "cell_type": "code",
   "execution_count": 2,
   "id": "b542ba2f",
   "metadata": {
    "execution": {
     "iopub.execute_input": "2025-02-17T00:12:03.237176Z",
     "iopub.status.busy": "2025-02-17T00:12:03.236709Z",
     "iopub.status.idle": "2025-02-17T00:12:03.284679Z",
     "shell.execute_reply": "2025-02-17T00:12:03.283534Z"
    },
    "papermill": {
     "duration": 0.053928,
     "end_time": "2025-02-17T00:12:03.286338",
     "exception": false,
     "start_time": "2025-02-17T00:12:03.232410",
     "status": "completed"
    },
    "tags": []
   },
   "outputs": [
    {
     "data": {
      "text/html": [
       "<div>\n",
       "<style scoped>\n",
       "    .dataframe tbody tr th:only-of-type {\n",
       "        vertical-align: middle;\n",
       "    }\n",
       "\n",
       "    .dataframe tbody tr th {\n",
       "        vertical-align: top;\n",
       "    }\n",
       "\n",
       "    .dataframe thead th {\n",
       "        text-align: right;\n",
       "    }\n",
       "</style>\n",
       "<table border=\"1\" class=\"dataframe\">\n",
       "  <thead>\n",
       "    <tr style=\"text-align: right;\">\n",
       "      <th></th>\n",
       "      <th>Product ID</th>\n",
       "      <th>Product Name</th>\n",
       "      <th>Category</th>\n",
       "      <th>Price (USD)</th>\n",
       "      <th>Stock Quantity</th>\n",
       "      <th>Rating</th>\n",
       "      <th>Number of Reviews</th>\n",
       "      <th>Seller Name</th>\n",
       "      <th>Discount Percentage</th>\n",
       "      <th>Sales Count</th>\n",
       "    </tr>\n",
       "  </thead>\n",
       "  <tbody>\n",
       "    <tr>\n",
       "      <th>0</th>\n",
       "      <td>P1000</td>\n",
       "      <td>Product 1</td>\n",
       "      <td>Clothing</td>\n",
       "      <td>295.28</td>\n",
       "      <td>93</td>\n",
       "      <td>2.9</td>\n",
       "      <td>190</td>\n",
       "      <td>BeautyCare</td>\n",
       "      <td>0</td>\n",
       "      <td>7441</td>\n",
       "    </tr>\n",
       "    <tr>\n",
       "      <th>1</th>\n",
       "      <td>P1001</td>\n",
       "      <td>Product 2</td>\n",
       "      <td>Sports</td>\n",
       "      <td>323.12</td>\n",
       "      <td>126</td>\n",
       "      <td>4.6</td>\n",
       "      <td>105</td>\n",
       "      <td>SportsZone</td>\n",
       "      <td>20</td>\n",
       "      <td>3097</td>\n",
       "    </tr>\n",
       "    <tr>\n",
       "      <th>2</th>\n",
       "      <td>P1002</td>\n",
       "      <td>Product 3</td>\n",
       "      <td>Sports</td>\n",
       "      <td>494.66</td>\n",
       "      <td>32</td>\n",
       "      <td>4.8</td>\n",
       "      <td>3017</td>\n",
       "      <td>SportsZone</td>\n",
       "      <td>5</td>\n",
       "      <td>9671</td>\n",
       "    </tr>\n",
       "    <tr>\n",
       "      <th>3</th>\n",
       "      <td>P1003</td>\n",
       "      <td>Product 4</td>\n",
       "      <td>Home &amp; Kitchen</td>\n",
       "      <td>434.72</td>\n",
       "      <td>147</td>\n",
       "      <td>3.5</td>\n",
       "      <td>2953</td>\n",
       "      <td>ToyGalaxy</td>\n",
       "      <td>0</td>\n",
       "      <td>4805</td>\n",
       "    </tr>\n",
       "    <tr>\n",
       "      <th>4</th>\n",
       "      <td>P1004</td>\n",
       "      <td>Product 5</td>\n",
       "      <td>Home &amp; Kitchen</td>\n",
       "      <td>248.15</td>\n",
       "      <td>18</td>\n",
       "      <td>2.6</td>\n",
       "      <td>3977</td>\n",
       "      <td>TechStore</td>\n",
       "      <td>15</td>\n",
       "      <td>3829</td>\n",
       "    </tr>\n",
       "  </tbody>\n",
       "</table>\n",
       "</div>"
      ],
      "text/plain": [
       "  Product ID Product Name        Category  Price (USD)  Stock Quantity  \\\n",
       "0      P1000    Product 1        Clothing       295.28              93   \n",
       "1      P1001    Product 2          Sports       323.12             126   \n",
       "2      P1002    Product 3          Sports       494.66              32   \n",
       "3      P1003    Product 4  Home & Kitchen       434.72             147   \n",
       "4      P1004    Product 5  Home & Kitchen       248.15              18   \n",
       "\n",
       "   Rating  Number of Reviews Seller Name  Discount Percentage  Sales Count  \n",
       "0     2.9                190  BeautyCare                    0         7441  \n",
       "1     4.6                105  SportsZone                   20         3097  \n",
       "2     4.8               3017  SportsZone                    5         9671  \n",
       "3     3.5               2953   ToyGalaxy                    0         4805  \n",
       "4     2.6               3977   TechStore                   15         3829  "
      ]
     },
     "execution_count": 2,
     "metadata": {},
     "output_type": "execute_result"
    }
   ],
   "source": [
    "df = pd.read_csv(\"/kaggle/input/e-commerce-product-sales-dataset-100-products/ecommerce_dataset.csv\")\n",
    "df.head(5)"
   ]
  },
  {
   "cell_type": "code",
   "execution_count": 3,
   "id": "232678fe",
   "metadata": {
    "execution": {
     "iopub.execute_input": "2025-02-17T00:12:03.295145Z",
     "iopub.status.busy": "2025-02-17T00:12:03.294793Z",
     "iopub.status.idle": "2025-02-17T00:12:03.324856Z",
     "shell.execute_reply": "2025-02-17T00:12:03.323436Z"
    },
    "papermill": {
     "duration": 0.036519,
     "end_time": "2025-02-17T00:12:03.326724",
     "exception": false,
     "start_time": "2025-02-17T00:12:03.290205",
     "status": "completed"
    },
    "tags": []
   },
   "outputs": [
    {
     "data": {
      "text/html": [
       "<div>\n",
       "<style scoped>\n",
       "    .dataframe tbody tr th:only-of-type {\n",
       "        vertical-align: middle;\n",
       "    }\n",
       "\n",
       "    .dataframe tbody tr th {\n",
       "        vertical-align: top;\n",
       "    }\n",
       "\n",
       "    .dataframe thead th {\n",
       "        text-align: right;\n",
       "    }\n",
       "</style>\n",
       "<table border=\"1\" class=\"dataframe\">\n",
       "  <thead>\n",
       "    <tr style=\"text-align: right;\">\n",
       "      <th></th>\n",
       "      <th>Price (USD)</th>\n",
       "      <th>Stock Quantity</th>\n",
       "      <th>Rating</th>\n",
       "      <th>Number of Reviews</th>\n",
       "      <th>Discount Percentage</th>\n",
       "      <th>Sales Count</th>\n",
       "    </tr>\n",
       "  </thead>\n",
       "  <tbody>\n",
       "    <tr>\n",
       "      <th>count</th>\n",
       "      <td>100.000000</td>\n",
       "      <td>100.000000</td>\n",
       "      <td>100.00000</td>\n",
       "      <td>100.000</td>\n",
       "      <td>100.000000</td>\n",
       "      <td>100.000000</td>\n",
       "    </tr>\n",
       "    <tr>\n",
       "      <th>mean</th>\n",
       "      <td>244.647000</td>\n",
       "      <td>97.850000</td>\n",
       "      <td>3.84200</td>\n",
       "      <td>2577.010</td>\n",
       "      <td>13.850000</td>\n",
       "      <td>5372.280000</td>\n",
       "    </tr>\n",
       "    <tr>\n",
       "      <th>std</th>\n",
       "      <td>131.155266</td>\n",
       "      <td>60.700519</td>\n",
       "      <td>0.73994</td>\n",
       "      <td>1400.663</td>\n",
       "      <td>10.750969</td>\n",
       "      <td>2875.649738</td>\n",
       "    </tr>\n",
       "    <tr>\n",
       "      <th>min</th>\n",
       "      <td>9.180000</td>\n",
       "      <td>1.000000</td>\n",
       "      <td>2.50000</td>\n",
       "      <td>37.000</td>\n",
       "      <td>0.000000</td>\n",
       "      <td>1.000000</td>\n",
       "    </tr>\n",
       "    <tr>\n",
       "      <th>25%</th>\n",
       "      <td>151.890000</td>\n",
       "      <td>43.000000</td>\n",
       "      <td>3.20000</td>\n",
       "      <td>1499.000</td>\n",
       "      <td>5.000000</td>\n",
       "      <td>3078.750000</td>\n",
       "    </tr>\n",
       "    <tr>\n",
       "      <th>50%</th>\n",
       "      <td>236.340000</td>\n",
       "      <td>105.500000</td>\n",
       "      <td>3.90000</td>\n",
       "      <td>2750.000</td>\n",
       "      <td>15.000000</td>\n",
       "      <td>5151.500000</td>\n",
       "    </tr>\n",
       "    <tr>\n",
       "      <th>75%</th>\n",
       "      <td>342.555000</td>\n",
       "      <td>155.500000</td>\n",
       "      <td>4.60000</td>\n",
       "      <td>3523.000</td>\n",
       "      <td>25.000000</td>\n",
       "      <td>7951.000000</td>\n",
       "    </tr>\n",
       "    <tr>\n",
       "      <th>max</th>\n",
       "      <td>494.660000</td>\n",
       "      <td>197.000000</td>\n",
       "      <td>5.00000</td>\n",
       "      <td>4901.000</td>\n",
       "      <td>30.000000</td>\n",
       "      <td>9801.000000</td>\n",
       "    </tr>\n",
       "  </tbody>\n",
       "</table>\n",
       "</div>"
      ],
      "text/plain": [
       "       Price (USD)  Stock Quantity     Rating  Number of Reviews  \\\n",
       "count   100.000000      100.000000  100.00000            100.000   \n",
       "mean    244.647000       97.850000    3.84200           2577.010   \n",
       "std     131.155266       60.700519    0.73994           1400.663   \n",
       "min       9.180000        1.000000    2.50000             37.000   \n",
       "25%     151.890000       43.000000    3.20000           1499.000   \n",
       "50%     236.340000      105.500000    3.90000           2750.000   \n",
       "75%     342.555000      155.500000    4.60000           3523.000   \n",
       "max     494.660000      197.000000    5.00000           4901.000   \n",
       "\n",
       "       Discount Percentage  Sales Count  \n",
       "count           100.000000   100.000000  \n",
       "mean             13.850000  5372.280000  \n",
       "std              10.750969  2875.649738  \n",
       "min               0.000000     1.000000  \n",
       "25%               5.000000  3078.750000  \n",
       "50%              15.000000  5151.500000  \n",
       "75%              25.000000  7951.000000  \n",
       "max              30.000000  9801.000000  "
      ]
     },
     "execution_count": 3,
     "metadata": {},
     "output_type": "execute_result"
    }
   ],
   "source": [
    "df.describe()"
   ]
  },
  {
   "cell_type": "code",
   "execution_count": 4,
   "id": "cd52a6fb",
   "metadata": {
    "execution": {
     "iopub.execute_input": "2025-02-17T00:12:03.336320Z",
     "iopub.status.busy": "2025-02-17T00:12:03.335930Z",
     "iopub.status.idle": "2025-02-17T00:12:03.347054Z",
     "shell.execute_reply": "2025-02-17T00:12:03.345927Z"
    },
    "papermill": {
     "duration": 0.017921,
     "end_time": "2025-02-17T00:12:03.348854",
     "exception": false,
     "start_time": "2025-02-17T00:12:03.330933",
     "status": "completed"
    },
    "tags": []
   },
   "outputs": [],
   "source": [
    "df=df.drop([\"Product ID\" , \"Product Name\",], axis=1)\n"
   ]
  },
  {
   "cell_type": "code",
   "execution_count": 5,
   "id": "cd374512",
   "metadata": {
    "execution": {
     "iopub.execute_input": "2025-02-17T00:12:03.358734Z",
     "iopub.status.busy": "2025-02-17T00:12:03.358280Z",
     "iopub.status.idle": "2025-02-17T00:12:03.371416Z",
     "shell.execute_reply": "2025-02-17T00:12:03.370233Z"
    },
    "papermill": {
     "duration": 0.019992,
     "end_time": "2025-02-17T00:12:03.373190",
     "exception": false,
     "start_time": "2025-02-17T00:12:03.353198",
     "status": "completed"
    },
    "tags": []
   },
   "outputs": [],
   "source": [
    "df=pd.get_dummies(df, columns=['Category','Seller Name'], drop_first=True)\n"
   ]
  },
  {
   "cell_type": "code",
   "execution_count": 6,
   "id": "dec9d994",
   "metadata": {
    "execution": {
     "iopub.execute_input": "2025-02-17T00:12:03.382645Z",
     "iopub.status.busy": "2025-02-17T00:12:03.382232Z",
     "iopub.status.idle": "2025-02-17T00:12:03.389311Z",
     "shell.execute_reply": "2025-02-17T00:12:03.388453Z"
    },
    "papermill": {
     "duration": 0.013463,
     "end_time": "2025-02-17T00:12:03.390825",
     "exception": false,
     "start_time": "2025-02-17T00:12:03.377362",
     "status": "completed"
    },
    "tags": []
   },
   "outputs": [
    {
     "data": {
      "text/plain": [
       "Price (USD)                   float64\n",
       "Stock Quantity                  int64\n",
       "Rating                        float64\n",
       "Number of Reviews               int64\n",
       "Discount Percentage             int64\n",
       "Sales Count                     int64\n",
       "Category_Books                   bool\n",
       "Category_Clothing                bool\n",
       "Category_Electronics             bool\n",
       "Category_Home & Kitchen          bool\n",
       "Category_Sports                  bool\n",
       "Category_Toys                    bool\n",
       "Seller Name_BookWorld            bool\n",
       "Seller Name_FashionHub           bool\n",
       "Seller Name_HomeEssentials       bool\n",
       "Seller Name_SportsZone           bool\n",
       "Seller Name_TechStore            bool\n",
       "Seller Name_ToyGalaxy            bool\n",
       "dtype: object"
      ]
     },
     "execution_count": 6,
     "metadata": {},
     "output_type": "execute_result"
    }
   ],
   "source": [
    "df.dtypes"
   ]
  },
  {
   "cell_type": "code",
   "execution_count": 7,
   "id": "4fc95de7",
   "metadata": {
    "execution": {
     "iopub.execute_input": "2025-02-17T00:12:03.400714Z",
     "iopub.status.busy": "2025-02-17T00:12:03.400239Z",
     "iopub.status.idle": "2025-02-17T00:12:03.404876Z",
     "shell.execute_reply": "2025-02-17T00:12:03.403805Z"
    },
    "papermill": {
     "duration": 0.011189,
     "end_time": "2025-02-17T00:12:03.406571",
     "exception": false,
     "start_time": "2025-02-17T00:12:03.395382",
     "status": "completed"
    },
    "tags": []
   },
   "outputs": [],
   "source": [
    "df=df.astype(float)\n"
   ]
  },
  {
   "cell_type": "code",
   "execution_count": 8,
   "id": "c5ea8a6c",
   "metadata": {
    "execution": {
     "iopub.execute_input": "2025-02-17T00:12:03.415713Z",
     "iopub.status.busy": "2025-02-17T00:12:03.415373Z",
     "iopub.status.idle": "2025-02-17T00:12:03.422365Z",
     "shell.execute_reply": "2025-02-17T00:12:03.421383Z"
    },
    "papermill": {
     "duration": 0.013429,
     "end_time": "2025-02-17T00:12:03.424027",
     "exception": false,
     "start_time": "2025-02-17T00:12:03.410598",
     "status": "completed"
    },
    "tags": []
   },
   "outputs": [
    {
     "data": {
      "text/plain": [
       "Price (USD)                   float64\n",
       "Stock Quantity                float64\n",
       "Rating                        float64\n",
       "Number of Reviews             float64\n",
       "Discount Percentage           float64\n",
       "Sales Count                   float64\n",
       "Category_Books                float64\n",
       "Category_Clothing             float64\n",
       "Category_Electronics          float64\n",
       "Category_Home & Kitchen       float64\n",
       "Category_Sports               float64\n",
       "Category_Toys                 float64\n",
       "Seller Name_BookWorld         float64\n",
       "Seller Name_FashionHub        float64\n",
       "Seller Name_HomeEssentials    float64\n",
       "Seller Name_SportsZone        float64\n",
       "Seller Name_TechStore         float64\n",
       "Seller Name_ToyGalaxy         float64\n",
       "dtype: object"
      ]
     },
     "execution_count": 8,
     "metadata": {},
     "output_type": "execute_result"
    }
   ],
   "source": [
    "df.dtypes"
   ]
  },
  {
   "cell_type": "code",
   "execution_count": 9,
   "id": "1d4f63d6",
   "metadata": {
    "execution": {
     "iopub.execute_input": "2025-02-17T00:12:03.434515Z",
     "iopub.status.busy": "2025-02-17T00:12:03.434104Z",
     "iopub.status.idle": "2025-02-17T00:12:03.440110Z",
     "shell.execute_reply": "2025-02-17T00:12:03.439038Z"
    },
    "papermill": {
     "duration": 0.013476,
     "end_time": "2025-02-17T00:12:03.441838",
     "exception": false,
     "start_time": "2025-02-17T00:12:03.428362",
     "status": "completed"
    },
    "tags": []
   },
   "outputs": [],
   "source": [
    "y=df[['Sales Count']]\n",
    "x=df.drop(columns=['Sales Count'])\n"
   ]
  },
  {
   "cell_type": "code",
   "execution_count": 10,
   "id": "83bc80b7",
   "metadata": {
    "execution": {
     "iopub.execute_input": "2025-02-17T00:12:03.451662Z",
     "iopub.status.busy": "2025-02-17T00:12:03.451195Z",
     "iopub.status.idle": "2025-02-17T00:12:05.015719Z",
     "shell.execute_reply": "2025-02-17T00:12:05.014567Z"
    },
    "papermill": {
     "duration": 1.572449,
     "end_time": "2025-02-17T00:12:05.018585",
     "exception": false,
     "start_time": "2025-02-17T00:12:03.446136",
     "status": "completed"
    },
    "tags": []
   },
   "outputs": [],
   "source": [
    "from sklearn.linear_model import Ridge\n",
    "from sklearn.linear_model import LinearRegression\n",
    "\n",
    "from sklearn.model_selection import train_test_split"
   ]
  },
  {
   "cell_type": "code",
   "execution_count": 11,
   "id": "21e3ab1b",
   "metadata": {
    "execution": {
     "iopub.execute_input": "2025-02-17T00:12:05.029404Z",
     "iopub.status.busy": "2025-02-17T00:12:05.028865Z",
     "iopub.status.idle": "2025-02-17T00:12:05.032855Z",
     "shell.execute_reply": "2025-02-17T00:12:05.031705Z"
    },
    "papermill": {
     "duration": 0.01077,
     "end_time": "2025-02-17T00:12:05.034655",
     "exception": false,
     "start_time": "2025-02-17T00:12:05.023885",
     "status": "completed"
    },
    "tags": []
   },
   "outputs": [],
   "source": [
    "#data set is so small\n",
    "#x_train,x_test,y_train,y_test = train_test_split(x,y,train_size=0.7,random_state=36)\n"
   ]
  },
  {
   "cell_type": "code",
   "execution_count": 12,
   "id": "6b7c3ff6",
   "metadata": {
    "execution": {
     "iopub.execute_input": "2025-02-17T00:12:05.049247Z",
     "iopub.status.busy": "2025-02-17T00:12:05.048751Z",
     "iopub.status.idle": "2025-02-17T00:12:05.095759Z",
     "shell.execute_reply": "2025-02-17T00:12:05.094167Z"
    },
    "papermill": {
     "duration": 0.05801,
     "end_time": "2025-02-17T00:12:05.098042",
     "exception": false,
     "start_time": "2025-02-17T00:12:05.040032",
     "status": "completed"
    },
    "tags": []
   },
   "outputs": [
    {
     "name": "stdout",
     "output_type": "stream",
     "text": [
      "0.12745701396722486\n"
     ]
    }
   ],
   "source": [
    "# Ridge Regression\n",
    "ridge = Ridge(alpha=1.0)\n",
    "model = ridge.fit(x, y)\n",
    "print(model.score(x, y))\n",
    "\n"
   ]
  },
  {
   "cell_type": "code",
   "execution_count": 13,
   "id": "f4859afd",
   "metadata": {
    "execution": {
     "iopub.execute_input": "2025-02-17T00:12:05.111717Z",
     "iopub.status.busy": "2025-02-17T00:12:05.111375Z",
     "iopub.status.idle": "2025-02-17T00:12:05.151570Z",
     "shell.execute_reply": "2025-02-17T00:12:05.150193Z"
    },
    "papermill": {
     "duration": 0.049094,
     "end_time": "2025-02-17T00:12:05.153387",
     "exception": false,
     "start_time": "2025-02-17T00:12:05.104293",
     "status": "completed"
    },
    "tags": []
   },
   "outputs": [
    {
     "name": "stdout",
     "output_type": "stream",
     "text": [
      "0.1300060902193091\n"
     ]
    }
   ],
   "source": [
    "# Linear Regression\n",
    "lm=LinearRegression()\n",
    "model=lm.fit(x,y)\n",
    "print(model.score(x,y))"
   ]
  },
  {
   "cell_type": "code",
   "execution_count": 14,
   "id": "eb56fdcb",
   "metadata": {
    "execution": {
     "iopub.execute_input": "2025-02-17T00:12:05.163208Z",
     "iopub.status.busy": "2025-02-17T00:12:05.162893Z",
     "iopub.status.idle": "2025-02-17T00:12:05.167299Z",
     "shell.execute_reply": "2025-02-17T00:12:05.166014Z"
    },
    "papermill": {
     "duration": 0.011808,
     "end_time": "2025-02-17T00:12:05.169584",
     "exception": false,
     "start_time": "2025-02-17T00:12:05.157776",
     "status": "completed"
    },
    "tags": []
   },
   "outputs": [],
   "source": [
    "#model.predict([])"
   ]
  }
 ],
 "metadata": {
  "kaggle": {
   "accelerator": "none",
   "dataSources": [
    {
     "datasetId": 6670907,
     "sourceId": 10755389,
     "sourceType": "datasetVersion"
    }
   ],
   "dockerImageVersionId": 30886,
   "isGpuEnabled": false,
   "isInternetEnabled": true,
   "language": "python",
   "sourceType": "notebook"
  },
  "kernelspec": {
   "display_name": "Python 3",
   "language": "python",
   "name": "python3"
  },
  "language_info": {
   "codemirror_mode": {
    "name": "ipython",
    "version": 3
   },
   "file_extension": ".py",
   "mimetype": "text/x-python",
   "name": "python",
   "nbconvert_exporter": "python",
   "pygments_lexer": "ipython3",
   "version": "3.10.12"
  },
  "papermill": {
   "default_parameters": {},
   "duration": 6.867769,
   "end_time": "2025-02-17T00:12:05.896779",
   "environment_variables": {},
   "exception": null,
   "input_path": "__notebook__.ipynb",
   "output_path": "__notebook__.ipynb",
   "parameters": {},
   "start_time": "2025-02-17T00:11:59.029010",
   "version": "2.6.0"
  }
 },
 "nbformat": 4,
 "nbformat_minor": 5
}
