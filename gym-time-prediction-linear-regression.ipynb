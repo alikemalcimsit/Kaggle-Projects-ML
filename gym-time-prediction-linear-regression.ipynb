{
 "cells": [
  {
   "cell_type": "code",
   "execution_count": 1,
   "id": "8b8acf81",
   "metadata": {
    "_cell_guid": "b1076dfc-b9ad-4769-8c92-a6c4dae69d19",
    "_uuid": "8f2839f25d086af736a60e9eeb907d3b93b6e0e5",
    "execution": {
     "iopub.execute_input": "2025-02-20T08:39:35.781635Z",
     "iopub.status.busy": "2025-02-20T08:39:35.781314Z",
     "iopub.status.idle": "2025-02-20T08:39:36.806132Z",
     "shell.execute_reply": "2025-02-20T08:39:36.805008Z"
    },
    "papermill": {
     "duration": 1.031226,
     "end_time": "2025-02-20T08:39:36.807660",
     "exception": false,
     "start_time": "2025-02-20T08:39:35.776434",
     "status": "completed"
    },
    "tags": []
   },
   "outputs": [
    {
     "name": "stdout",
     "output_type": "stream",
     "text": [
      "/kaggle/input/daily-gym-tracker/gym.csv\n"
     ]
    }
   ],
   "source": [
    "# This Python 3 environment comes with many helpful analytics libraries installed\n",
    "# It is defined by the kaggle/python Docker image: https://github.com/kaggle/docker-python\n",
    "# For example, here's several helpful packages to load\n",
    "\n",
    "import numpy as np # linear algebra\n",
    "import pandas as pd # data processing, CSV file I/O (e.g. pd.read_csv)\n",
    "\n",
    "# Input data files are available in the read-only \"../input/\" directory\n",
    "# For example, running this (by clicking run or pressing Shift+Enter) will list all files under the input directory\n",
    "\n",
    "import os\n",
    "for dirname, _, filenames in os.walk('/kaggle/input'):\n",
    "    for filename in filenames:\n",
    "        print(os.path.join(dirname, filename))\n",
    "\n",
    "# You can write up to 20GB to the current directory (/kaggle/working/) that gets preserved as output when you create a version using \"Save & Run All\" \n",
    "# You can also write temporary files to /kaggle/temp/, but they won't be saved outside of the current session"
   ]
  },
  {
   "cell_type": "code",
   "execution_count": 2,
   "id": "403d12ad",
   "metadata": {
    "execution": {
     "iopub.execute_input": "2025-02-20T08:39:36.819554Z",
     "iopub.status.busy": "2025-02-20T08:39:36.819127Z",
     "iopub.status.idle": "2025-02-20T08:39:38.959144Z",
     "shell.execute_reply": "2025-02-20T08:39:38.958392Z"
    },
    "papermill": {
     "duration": 2.145384,
     "end_time": "2025-02-20T08:39:38.960518",
     "exception": false,
     "start_time": "2025-02-20T08:39:36.815134",
     "status": "completed"
    },
    "tags": []
   },
   "outputs": [],
   "source": [
    "import seaborn as sns\n",
    "from datetime import datetime, timedelta\n",
    "from sklearn.linear_model import LinearRegression\n",
    "from sklearn.metrics import mean_absolute_error      \n",
    "from sklearn.metrics import mean_absolute_error, mean_squared_error\n",
    "import matplotlib.pyplot as plt\n",
    "\n",
    "from sklearn.model_selection import train_test_split"
   ]
  },
  {
   "cell_type": "code",
   "execution_count": 3,
   "id": "3f486783",
   "metadata": {
    "execution": {
     "iopub.execute_input": "2025-02-20T08:39:38.968702Z",
     "iopub.status.busy": "2025-02-20T08:39:38.968224Z",
     "iopub.status.idle": "2025-02-20T08:39:39.001435Z",
     "shell.execute_reply": "2025-02-20T08:39:39.000322Z"
    },
    "papermill": {
     "duration": 0.03943,
     "end_time": "2025-02-20T08:39:39.003127",
     "exception": false,
     "start_time": "2025-02-20T08:39:38.963697",
     "status": "completed"
    },
    "tags": []
   },
   "outputs": [
    {
     "data": {
      "text/html": [
       "<div>\n",
       "<style scoped>\n",
       "    .dataframe tbody tr th:only-of-type {\n",
       "        vertical-align: middle;\n",
       "    }\n",
       "\n",
       "    .dataframe tbody tr th {\n",
       "        vertical-align: top;\n",
       "    }\n",
       "\n",
       "    .dataframe thead th {\n",
       "        text-align: right;\n",
       "    }\n",
       "</style>\n",
       "<table border=\"1\" class=\"dataframe\">\n",
       "  <thead>\n",
       "    <tr style=\"text-align: right;\">\n",
       "      <th></th>\n",
       "      <th>Date</th>\n",
       "      <th>workout</th>\n",
       "      <th>time</th>\n",
       "    </tr>\n",
       "  </thead>\n",
       "  <tbody>\n",
       "    <tr>\n",
       "      <th>0</th>\n",
       "      <td>31-01-2025</td>\n",
       "      <td>walk</td>\n",
       "      <td>1:00:00</td>\n",
       "    </tr>\n",
       "    <tr>\n",
       "      <th>1</th>\n",
       "      <td>01-02-2025</td>\n",
       "      <td>walk</td>\n",
       "      <td>1:00:00</td>\n",
       "    </tr>\n",
       "    <tr>\n",
       "      <th>2</th>\n",
       "      <td>02-02-2025</td>\n",
       "      <td>walk</td>\n",
       "      <td>1:00:00</td>\n",
       "    </tr>\n",
       "    <tr>\n",
       "      <th>3</th>\n",
       "      <td>03-02-2025</td>\n",
       "      <td>Work</td>\n",
       "      <td>0</td>\n",
       "    </tr>\n",
       "    <tr>\n",
       "      <th>4</th>\n",
       "      <td>04-02-2025</td>\n",
       "      <td>Slept</td>\n",
       "      <td>0</td>\n",
       "    </tr>\n",
       "    <tr>\n",
       "      <th>5</th>\n",
       "      <td>05-02-2025</td>\n",
       "      <td>Holiday</td>\n",
       "      <td>0</td>\n",
       "    </tr>\n",
       "    <tr>\n",
       "      <th>6</th>\n",
       "      <td>06-02-2025</td>\n",
       "      <td>Gym</td>\n",
       "      <td>0:55:00</td>\n",
       "    </tr>\n",
       "  </tbody>\n",
       "</table>\n",
       "</div>"
      ],
      "text/plain": [
       "         Date  workout     time\n",
       "0  31-01-2025     walk  1:00:00\n",
       "1  01-02-2025     walk  1:00:00\n",
       "2  02-02-2025     walk  1:00:00\n",
       "3  03-02-2025     Work        0\n",
       "4  04-02-2025    Slept        0\n",
       "5  05-02-2025  Holiday        0\n",
       "6  06-02-2025      Gym  0:55:00"
      ]
     },
     "execution_count": 3,
     "metadata": {},
     "output_type": "execute_result"
    }
   ],
   "source": [
    "df=pd.read_csv(\"/kaggle/input/daily-gym-tracker/gym.csv\")\n",
    "df.head(7)"
   ]
  },
  {
   "cell_type": "code",
   "execution_count": 4,
   "id": "60be6f10",
   "metadata": {
    "execution": {
     "iopub.execute_input": "2025-02-20T08:39:39.010769Z",
     "iopub.status.busy": "2025-02-20T08:39:39.010458Z",
     "iopub.status.idle": "2025-02-20T08:39:39.018285Z",
     "shell.execute_reply": "2025-02-20T08:39:39.017547Z"
    },
    "papermill": {
     "duration": 0.012755,
     "end_time": "2025-02-20T08:39:39.019444",
     "exception": false,
     "start_time": "2025-02-20T08:39:39.006689",
     "status": "completed"
    },
    "tags": []
   },
   "outputs": [],
   "source": [
    "df['time'] = pd.to_timedelta(df['time'])\n",
    "df['total_seconds'] = df['time'].dt.total_seconds()"
   ]
  },
  {
   "cell_type": "code",
   "execution_count": 5,
   "id": "1d0aa6fc",
   "metadata": {
    "execution": {
     "iopub.execute_input": "2025-02-20T08:39:39.027026Z",
     "iopub.status.busy": "2025-02-20T08:39:39.026786Z",
     "iopub.status.idle": "2025-02-20T08:39:39.031440Z",
     "shell.execute_reply": "2025-02-20T08:39:39.030654Z"
    },
    "papermill": {
     "duration": 0.009571,
     "end_time": "2025-02-20T08:39:39.032630",
     "exception": false,
     "start_time": "2025-02-20T08:39:39.023059",
     "status": "completed"
    },
    "tags": []
   },
   "outputs": [
    {
     "data": {
      "text/plain": [
       "(24, 4)"
      ]
     },
     "execution_count": 5,
     "metadata": {},
     "output_type": "execute_result"
    }
   ],
   "source": [
    "df.shape"
   ]
  },
  {
   "cell_type": "code",
   "execution_count": 6,
   "id": "2efbce37",
   "metadata": {
    "execution": {
     "iopub.execute_input": "2025-02-20T08:39:39.040110Z",
     "iopub.status.busy": "2025-02-20T08:39:39.039851Z",
     "iopub.status.idle": "2025-02-20T08:39:39.053682Z",
     "shell.execute_reply": "2025-02-20T08:39:39.052503Z"
    },
    "papermill": {
     "duration": 0.018897,
     "end_time": "2025-02-20T08:39:39.054967",
     "exception": false,
     "start_time": "2025-02-20T08:39:39.036070",
     "status": "completed"
    },
    "tags": []
   },
   "outputs": [],
   "source": [
    "df = df.drop_duplicates(subset=[\"Date\"])\n"
   ]
  },
  {
   "cell_type": "code",
   "execution_count": 7,
   "id": "36f8eae1",
   "metadata": {
    "execution": {
     "iopub.execute_input": "2025-02-20T08:39:39.062625Z",
     "iopub.status.busy": "2025-02-20T08:39:39.062303Z",
     "iopub.status.idle": "2025-02-20T08:39:39.066845Z",
     "shell.execute_reply": "2025-02-20T08:39:39.066080Z"
    },
    "papermill": {
     "duration": 0.009476,
     "end_time": "2025-02-20T08:39:39.067910",
     "exception": false,
     "start_time": "2025-02-20T08:39:39.058434",
     "status": "completed"
    },
    "tags": []
   },
   "outputs": [
    {
     "data": {
      "text/plain": [
       "(21, 4)"
      ]
     },
     "execution_count": 7,
     "metadata": {},
     "output_type": "execute_result"
    }
   ],
   "source": [
    "df.shape"
   ]
  },
  {
   "cell_type": "code",
   "execution_count": 8,
   "id": "58965329",
   "metadata": {
    "execution": {
     "iopub.execute_input": "2025-02-20T08:39:39.075205Z",
     "iopub.status.busy": "2025-02-20T08:39:39.074947Z",
     "iopub.status.idle": "2025-02-20T08:39:39.082551Z",
     "shell.execute_reply": "2025-02-20T08:39:39.081854Z"
    },
    "papermill": {
     "duration": 0.012534,
     "end_time": "2025-02-20T08:39:39.083733",
     "exception": false,
     "start_time": "2025-02-20T08:39:39.071199",
     "status": "completed"
    },
    "tags": []
   },
   "outputs": [
    {
     "data": {
      "text/plain": [
       "21"
      ]
     },
     "execution_count": 8,
     "metadata": {},
     "output_type": "execute_result"
    }
   ],
   "source": [
    "df[\"Date\"].nunique()"
   ]
  },
  {
   "cell_type": "code",
   "execution_count": 9,
   "id": "e69cfc66",
   "metadata": {
    "execution": {
     "iopub.execute_input": "2025-02-20T08:39:39.091470Z",
     "iopub.status.busy": "2025-02-20T08:39:39.091220Z",
     "iopub.status.idle": "2025-02-20T08:39:39.110448Z",
     "shell.execute_reply": "2025-02-20T08:39:39.109451Z"
    },
    "papermill": {
     "duration": 0.024275,
     "end_time": "2025-02-20T08:39:39.111641",
     "exception": false,
     "start_time": "2025-02-20T08:39:39.087366",
     "status": "completed"
    },
    "tags": []
   },
   "outputs": [
    {
     "name": "stdout",
     "output_type": "stream",
     "text": [
      "<class 'pandas.core.frame.DataFrame'>\n",
      "Index: 21 entries, 0 to 23\n",
      "Data columns (total 4 columns):\n",
      " #   Column         Non-Null Count  Dtype          \n",
      "---  ------         --------------  -----          \n",
      " 0   Date           21 non-null     object         \n",
      " 1   workout        21 non-null     object         \n",
      " 2   time           21 non-null     timedelta64[ns]\n",
      " 3   total_seconds  21 non-null     float64        \n",
      "dtypes: float64(1), object(2), timedelta64[ns](1)\n",
      "memory usage: 840.0+ bytes\n"
     ]
    }
   ],
   "source": [
    "df.info()"
   ]
  },
  {
   "cell_type": "code",
   "execution_count": 10,
   "id": "99cf0b5e",
   "metadata": {
    "execution": {
     "iopub.execute_input": "2025-02-20T08:39:39.119784Z",
     "iopub.status.busy": "2025-02-20T08:39:39.119432Z",
     "iopub.status.idle": "2025-02-20T08:39:39.327406Z",
     "shell.execute_reply": "2025-02-20T08:39:39.326646Z"
    },
    "papermill": {
     "duration": 0.213375,
     "end_time": "2025-02-20T08:39:39.328634",
     "exception": false,
     "start_time": "2025-02-20T08:39:39.115259",
     "status": "completed"
    },
    "tags": []
   },
   "outputs": [
    {
     "data": {
      "text/plain": [
       "<Axes: xlabel='workout', ylabel='count'>"
      ]
     },
     "execution_count": 10,
     "metadata": {},
     "output_type": "execute_result"
    },
    {
     "data": {
      "image/png": "[encoded data removed]",
      "text/plain": [
       "<Figure size 640x480 with 1 Axes>"
      ]
     },
     "metadata": {},
     "output_type": "display_data"
    }
   ],
   "source": [
    "sns.countplot(x=\"workout\",data=df)\n"
   ]
  },
  {
   "cell_type": "code",
   "execution_count": 11,
   "id": "834bad21",
   "metadata": {
    "execution": {
     "iopub.execute_input": "2025-02-20T08:39:39.336613Z",
     "iopub.status.busy": "2025-02-20T08:39:39.336298Z",
     "iopub.status.idle": "2025-02-20T08:39:39.457134Z",
     "shell.execute_reply": "2025-02-20T08:39:39.456295Z"
    },
    "papermill": {
     "duration": 0.126406,
     "end_time": "2025-02-20T08:39:39.458672",
     "exception": false,
     "start_time": "2025-02-20T08:39:39.332266",
     "status": "completed"
    },
    "tags": []
   },
   "outputs": [
    {
     "data": {
      "text/plain": [
       "<Axes: xlabel='time', ylabel='count'>"
      ]
     },
     "execution_count": 11,
     "metadata": {},
     "output_type": "execute_result"
    },
    {
     "data": {
      "image/png": "[encoded data removed]",
      "text/plain": [
       "<Figure size 640x480 with 1 Axes>"
      ]
     },
     "metadata": {},
     "output_type": "display_data"
    }
   ],
   "source": [
    "sns.countplot(x=\"time\",data=df)\n"
   ]
  },
  {
   "cell_type": "code",
   "execution_count": 12,
   "id": "79ed46ae",
   "metadata": {
    "execution": {
     "iopub.execute_input": "2025-02-20T08:39:39.467723Z",
     "iopub.status.busy": "2025-02-20T08:39:39.467419Z",
     "iopub.status.idle": "2025-02-20T08:39:39.473419Z",
     "shell.execute_reply": "2025-02-20T08:39:39.472702Z"
    },
    "papermill": {
     "duration": 0.012355,
     "end_time": "2025-02-20T08:39:39.475249",
     "exception": false,
     "start_time": "2025-02-20T08:39:39.462894",
     "status": "completed"
    },
    "tags": []
   },
   "outputs": [],
   "source": [
    "df=df.drop([\"Date\",\"time\"],axis=1)"
   ]
  },
  {
   "cell_type": "code",
   "execution_count": 13,
   "id": "8939fd26",
   "metadata": {
    "execution": {
     "iopub.execute_input": "2025-02-20T08:39:39.485213Z",
     "iopub.status.busy": "2025-02-20T08:39:39.484898Z",
     "iopub.status.idle": "2025-02-20T08:39:39.491070Z",
     "shell.execute_reply": "2025-02-20T08:39:39.490224Z"
    },
    "papermill": {
     "duration": 0.012799,
     "end_time": "2025-02-20T08:39:39.492693",
     "exception": false,
     "start_time": "2025-02-20T08:39:39.479894",
     "status": "completed"
    },
    "tags": []
   },
   "outputs": [],
   "source": [
    "df=pd.get_dummies(df,columns=[ 'workout'],drop_first=True)"
   ]
  },
  {
   "cell_type": "code",
   "execution_count": 14,
   "id": "6ecb2d0e",
   "metadata": {
    "execution": {
     "iopub.execute_input": "2025-02-20T08:39:39.501673Z",
     "iopub.status.busy": "2025-02-20T08:39:39.501398Z",
     "iopub.status.idle": "2025-02-20T08:39:39.852170Z",
     "shell.execute_reply": "2025-02-20T08:39:39.850994Z"
    },
    "papermill": {
     "duration": 0.356364,
     "end_time": "2025-02-20T08:39:39.853403",
     "exception": false,
     "start_time": "2025-02-20T08:39:39.497039",
     "status": "completed"
    },
    "tags": []
   },
   "outputs": [
    {
     "data": {
      "text/plain": [
       "<Axes: >"
      ]
     },
     "execution_count": 14,
     "metadata": {},
     "output_type": "execute_result"
    },
    {
     "data": {
      "image/png": "[encoded data removed]",
      "text/plain": [
       "<Figure size 640x480 with 2 Axes>"
      ]
     },
     "metadata": {},
     "output_type": "display_data"
    }
   ],
   "source": [
    "corr = df.corr()\n",
    "sns.heatmap(corr, annot=True, cmap='coolwarm', linewidths=0.1)"
   ]
  },
  {
   "cell_type": "code",
   "execution_count": 15,
   "id": "76565715",
   "metadata": {
    "execution": {
     "iopub.execute_input": "2025-02-20T08:39:39.863681Z",
     "iopub.status.busy": "2025-02-20T08:39:39.863387Z",
     "iopub.status.idle": "2025-02-20T08:39:39.874322Z",
     "shell.execute_reply": "2025-02-20T08:39:39.873494Z"
    },
    "papermill": {
     "duration": 0.017196,
     "end_time": "2025-02-20T08:39:39.875438",
     "exception": false,
     "start_time": "2025-02-20T08:39:39.858242",
     "status": "completed"
    },
    "tags": []
   },
   "outputs": [
    {
     "data": {
      "text/html": [
       "<div>\n",
       "<style scoped>\n",
       "    .dataframe tbody tr th:only-of-type {\n",
       "        vertical-align: middle;\n",
       "    }\n",
       "\n",
       "    .dataframe tbody tr th {\n",
       "        vertical-align: top;\n",
       "    }\n",
       "\n",
       "    .dataframe thead th {\n",
       "        text-align: right;\n",
       "    }\n",
       "</style>\n",
       "<table border=\"1\" class=\"dataframe\">\n",
       "  <thead>\n",
       "    <tr style=\"text-align: right;\">\n",
       "      <th></th>\n",
       "      <th>total_seconds</th>\n",
       "      <th>workout_Holiday</th>\n",
       "      <th>workout_Slept</th>\n",
       "      <th>workout_Walk</th>\n",
       "      <th>workout_Work</th>\n",
       "      <th>workout_walk</th>\n",
       "    </tr>\n",
       "  </thead>\n",
       "  <tbody>\n",
       "    <tr>\n",
       "      <th>0</th>\n",
       "      <td>3600.0</td>\n",
       "      <td>False</td>\n",
       "      <td>False</td>\n",
       "      <td>False</td>\n",
       "      <td>False</td>\n",
       "      <td>True</td>\n",
       "    </tr>\n",
       "    <tr>\n",
       "      <th>1</th>\n",
       "      <td>3600.0</td>\n",
       "      <td>False</td>\n",
       "      <td>False</td>\n",
       "      <td>False</td>\n",
       "      <td>False</td>\n",
       "      <td>True</td>\n",
       "    </tr>\n",
       "    <tr>\n",
       "      <th>2</th>\n",
       "      <td>3600.0</td>\n",
       "      <td>False</td>\n",
       "      <td>False</td>\n",
       "      <td>False</td>\n",
       "      <td>False</td>\n",
       "      <td>True</td>\n",
       "    </tr>\n",
       "    <tr>\n",
       "      <th>3</th>\n",
       "      <td>0.0</td>\n",
       "      <td>False</td>\n",
       "      <td>False</td>\n",
       "      <td>False</td>\n",
       "      <td>True</td>\n",
       "      <td>False</td>\n",
       "    </tr>\n",
       "    <tr>\n",
       "      <th>4</th>\n",
       "      <td>0.0</td>\n",
       "      <td>False</td>\n",
       "      <td>True</td>\n",
       "      <td>False</td>\n",
       "      <td>False</td>\n",
       "      <td>False</td>\n",
       "    </tr>\n",
       "  </tbody>\n",
       "</table>\n",
       "</div>"
      ],
      "text/plain": [
       "   total_seconds  workout_Holiday  workout_Slept  workout_Walk  workout_Work  \\\n",
       "0         3600.0            False          False         False         False   \n",
       "1         3600.0            False          False         False         False   \n",
       "2         3600.0            False          False         False         False   \n",
       "3            0.0            False          False         False          True   \n",
       "4            0.0            False           True         False         False   \n",
       "\n",
       "   workout_walk  \n",
       "0          True  \n",
       "1          True  \n",
       "2          True  \n",
       "3         False  \n",
       "4         False  "
      ]
     },
     "execution_count": 15,
     "metadata": {},
     "output_type": "execute_result"
    }
   ],
   "source": [
    "\n",
    "df.head()"
   ]
  },
  {
   "cell_type": "code",
   "execution_count": 16,
   "id": "dcda1feb",
   "metadata": {
    "execution": {
     "iopub.execute_input": "2025-02-20T08:39:39.886357Z",
     "iopub.status.busy": "2025-02-20T08:39:39.886013Z",
     "iopub.status.idle": "2025-02-20T08:39:39.890769Z",
     "shell.execute_reply": "2025-02-20T08:39:39.889807Z"
    },
    "papermill": {
     "duration": 0.011665,
     "end_time": "2025-02-20T08:39:39.891985",
     "exception": false,
     "start_time": "2025-02-20T08:39:39.880320",
     "status": "completed"
    },
    "tags": []
   },
   "outputs": [],
   "source": [
    "x=df.drop([\"total_seconds\"],axis=1)\n",
    "y=df[\"total_seconds\"]"
   ]
  },
  {
   "cell_type": "code",
   "execution_count": 17,
   "id": "b419a33a",
   "metadata": {
    "execution": {
     "iopub.execute_input": "2025-02-20T08:39:39.902721Z",
     "iopub.status.busy": "2025-02-20T08:39:39.902462Z",
     "iopub.status.idle": "2025-02-20T08:39:39.907479Z",
     "shell.execute_reply": "2025-02-20T08:39:39.906676Z"
    },
    "papermill": {
     "duration": 0.01187,
     "end_time": "2025-02-20T08:39:39.908653",
     "exception": false,
     "start_time": "2025-02-20T08:39:39.896783",
     "status": "completed"
    },
    "tags": []
   },
   "outputs": [],
   "source": [
    "x_train,x_test,y_train,y_test=train_test_split(x,y,random_state=26,train_size=0.76)\n"
   ]
  },
  {
   "cell_type": "code",
   "execution_count": 18,
   "id": "97ac1725",
   "metadata": {
    "execution": {
     "iopub.execute_input": "2025-02-20T08:39:39.919769Z",
     "iopub.status.busy": "2025-02-20T08:39:39.919456Z",
     "iopub.status.idle": "2025-02-20T08:39:39.922520Z",
     "shell.execute_reply": "2025-02-20T08:39:39.921859Z"
    },
    "papermill": {
     "duration": 0.00984,
     "end_time": "2025-02-20T08:39:39.923783",
     "exception": false,
     "start_time": "2025-02-20T08:39:39.913943",
     "status": "completed"
    },
    "tags": []
   },
   "outputs": [],
   "source": [
    "#if you want make Standart Scaler "
   ]
  },
  {
   "cell_type": "code",
   "execution_count": 19,
   "id": "6941e095",
   "metadata": {
    "execution": {
     "iopub.execute_input": "2025-02-20T08:39:39.934916Z",
     "iopub.status.busy": "2025-02-20T08:39:39.934592Z",
     "iopub.status.idle": "2025-02-20T08:39:39.978716Z",
     "shell.execute_reply": "2025-02-20T08:39:39.977835Z"
    },
    "papermill": {
     "duration": 0.050846,
     "end_time": "2025-02-20T08:39:39.979949",
     "exception": false,
     "start_time": "2025-02-20T08:39:39.929103",
     "status": "completed"
    },
    "tags": []
   },
   "outputs": [
    {
     "data": {
      "text/html": [
       "<div>\n",
       "<style scoped>\n",
       "    .dataframe tbody tr th:only-of-type {\n",
       "        vertical-align: middle;\n",
       "    }\n",
       "\n",
       "    .dataframe tbody tr th {\n",
       "        vertical-align: top;\n",
       "    }\n",
       "\n",
       "    .dataframe thead th {\n",
       "        text-align: right;\n",
       "    }\n",
       "</style>\n",
       "<table border=\"1\" class=\"dataframe\">\n",
       "  <thead>\n",
       "    <tr style=\"text-align: right;\">\n",
       "      <th></th>\n",
       "      <th>RealValue</th>\n",
       "      <th>Tahmin</th>\n",
       "    </tr>\n",
       "  </thead>\n",
       "  <tbody>\n",
       "    <tr>\n",
       "      <th>10</th>\n",
       "      <td>0.0</td>\n",
       "      <td>2.273737e-12</td>\n",
       "    </tr>\n",
       "    <tr>\n",
       "      <th>18</th>\n",
       "      <td>3600.0</td>\n",
       "      <td>3.300000e+03</td>\n",
       "    </tr>\n",
       "    <tr>\n",
       "      <th>11</th>\n",
       "      <td>2700.0</td>\n",
       "      <td>3.300000e+03</td>\n",
       "    </tr>\n",
       "    <tr>\n",
       "      <th>20</th>\n",
       "      <td>0.0</td>\n",
       "      <td>2.273737e-12</td>\n",
       "    </tr>\n",
       "    <tr>\n",
       "      <th>15</th>\n",
       "      <td>4500.0</td>\n",
       "      <td>3.300000e+03</td>\n",
       "    </tr>\n",
       "    <tr>\n",
       "      <th>17</th>\n",
       "      <td>2700.0</td>\n",
       "      <td>3.300000e+03</td>\n",
       "    </tr>\n",
       "  </tbody>\n",
       "</table>\n",
       "</div>"
      ],
      "text/plain": [
       "    RealValue        Tahmin\n",
       "10        0.0  2.273737e-12\n",
       "18     3600.0  3.300000e+03\n",
       "11     2700.0  3.300000e+03\n",
       "20        0.0  2.273737e-12\n",
       "15     4500.0  3.300000e+03\n",
       "17     2700.0  3.300000e+03"
      ]
     },
     "execution_count": 19,
     "metadata": {},
     "output_type": "execute_result"
    }
   ],
   "source": [
    "lr=LinearRegression()\n",
    "lr.fit(x_train,y_train)\n",
    "\n",
    "predict=lr.predict(x_test)\n",
    "\n",
    "df=pd.DataFrame({\"RealValue\":y_test , \"Tahmin\":predict})\n",
    "df.head(10)"
   ]
  }
 ],
 "metadata": {
  "kaggle": {
   "accelerator": "none",
   "dataSources": [
    {
     "databundleVersionId": 11160599,
     "datasetId": 6609909,
     "sourceId": 10802189,
     "sourceType": "datasetVersion"
    }
   ],
   "dockerImageVersionId": 30886,
   "isGpuEnabled": false,
   "isInternetEnabled": true,
   "language": "python",
   "sourceType": "notebook"
  },
  "kernelspec": {
   "display_name": "Python 3",
   "language": "python",
   "name": "python3"
  },
  "language_info": {
   "codemirror_mode": {
    "name": "ipython",
    "version": 3
   },
   "file_extension": ".py",
   "mimetype": "text/x-python",
   "name": "python",
   "nbconvert_exporter": "python",
   "pygments_lexer": "ipython3",
   "version": "3.10.12"
  },
  "papermill": {
   "default_parameters": {},
   "duration": 7.086897,
   "end_time": "2025-02-20T08:39:40.704997",
   "environment_variables": {},
   "exception": null,
   "input_path": "__notebook__.ipynb",
   "output_path": "__notebook__.ipynb",
   "parameters": {},
   "start_time": "2025-02-20T08:39:33.618100",
   "version": "2.6.0"
  }
 },
 "nbformat": 4,
 "nbformat_minor": 5
}
