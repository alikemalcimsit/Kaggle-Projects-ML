{
 "cells": [
  {
   "cell_type": "code",
   "execution_count": 1,
   "id": "c18cdac3",
   "metadata": {
    "_cell_guid": "b1076dfc-b9ad-4769-8c92-a6c4dae69d19",
    "_uuid": "8f2839f25d086af736a60e9eeb907d3b93b6e0e5",
    "execution": {
     "iopub.execute_input": "2025-02-19T15:45:26.675691Z",
     "iopub.status.busy": "2025-02-19T15:45:26.675189Z",
     "iopub.status.idle": "2025-02-19T15:45:27.619922Z",
     "shell.execute_reply": "2025-02-19T15:45:27.618591Z"
    },
    "papermill": {
     "duration": 0.958154,
     "end_time": "2025-02-19T15:45:27.622014",
     "exception": false,
     "start_time": "2025-02-19T15:45:26.663860",
     "status": "completed"
    },
    "tags": []
   },
   "outputs": [
    {
     "name": "stdout",
     "output_type": "stream",
     "text": [
      "/kaggle/input/imdb-movies-dataset/merged_dataset.csv\n"
     ]
    }
   ],
   "source": [
    "# This Python 3 environment comes with many helpful analytics libraries installed\n",
    "# It is defined by the kaggle/python Docker image: https://github.com/kaggle/docker-python\n",
    "# For example, here's several helpful packages to load\n",
    "\n",
    "import numpy as np # linear algebra\n",
    "import pandas as pd # data processing, CSV file I/O (e.g. pd.read_csv)\n",
    "\n",
    "# Input data files are available in the read-only \"../input/\" directory\n",
    "# For example, running this (by clicking run or pressing Shift+Enter) will list all files under the input directory\n",
    "\n",
    "import os\n",
    "for dirname, _, filenames in os.walk('/kaggle/input'):\n",
    "    for filename in filenames:\n",
    "        print(os.path.join(dirname, filename))\n",
    "\n",
    "# You can write up to 20GB to the current directory (/kaggle/working/) that gets preserved as output when you create a version using \"Save & Run All\" \n",
    "# You can also write temporary files to /kaggle/temp/, but they won't be saved outside of the current session"
   ]
  },
  {
   "cell_type": "code",
   "execution_count": 2,
   "id": "c2fef6a4",
   "metadata": {
    "execution": {
     "iopub.execute_input": "2025-02-19T15:45:27.634015Z",
     "iopub.status.busy": "2025-02-19T15:45:27.633363Z",
     "iopub.status.idle": "2025-02-19T15:45:29.717257Z",
     "shell.execute_reply": "2025-02-19T15:45:29.715998Z"
    },
    "papermill": {
     "duration": 2.091826,
     "end_time": "2025-02-19T15:45:29.719163",
     "exception": false,
     "start_time": "2025-02-19T15:45:27.627337",
     "status": "completed"
    },
    "tags": []
   },
   "outputs": [],
   "source": [
    "import seaborn as sns\n",
    "from sklearn import preprocessing\n",
    "import re\n",
    "from sklearn.model_selection import train_test_split\n",
    "from sklearn.preprocessing import StandardScaler\n",
    "from sklearn.model_selection import train_test_split\n",
    "from sklearn.metrics import r2_score,mean_squared_error\n",
    "from sklearn.svm import SVR\n",
    "import matplotlib.pyplot as plt\n",
    "from mpl_toolkits.mplot3d import Axes3D\n"
   ]
  },
  {
   "cell_type": "code",
   "execution_count": 3,
   "id": "e5a83ae7",
   "metadata": {
    "execution": {
     "iopub.execute_input": "2025-02-19T15:45:29.730712Z",
     "iopub.status.busy": "2025-02-19T15:45:29.730159Z",
     "iopub.status.idle": "2025-02-19T15:45:29.777384Z",
     "shell.execute_reply": "2025-02-19T15:45:29.776295Z"
    },
    "papermill": {
     "duration": 0.055088,
     "end_time": "2025-02-19T15:45:29.779352",
     "exception": false,
     "start_time": "2025-02-19T15:45:29.724264",
     "status": "completed"
    },
    "tags": []
   },
   "outputs": [
    {
     "data": {
      "text/html": [
       "<div>\n",
       "<style scoped>\n",
       "    .dataframe tbody tr th:only-of-type {\n",
       "        vertical-align: middle;\n",
       "    }\n",
       "\n",
       "    .dataframe tbody tr th {\n",
       "        vertical-align: top;\n",
       "    }\n",
       "\n",
       "    .dataframe thead th {\n",
       "        text-align: right;\n",
       "    }\n",
       "</style>\n",
       "<table border=\"1\" class=\"dataframe\">\n",
       "  <thead>\n",
       "    <tr style=\"text-align: right;\">\n",
       "      <th></th>\n",
       "      <th>name</th>\n",
       "      <th>year</th>\n",
       "      <th>movie_rated</th>\n",
       "      <th>run_length</th>\n",
       "      <th>genres</th>\n",
       "      <th>release_date</th>\n",
       "      <th>rating</th>\n",
       "      <th>num_raters</th>\n",
       "      <th>num_reviews</th>\n",
       "    </tr>\n",
       "  </thead>\n",
       "  <tbody>\n",
       "    <tr>\n",
       "      <th>0</th>\n",
       "      <td>Inception</td>\n",
       "      <td>2010</td>\n",
       "      <td>PG-13</td>\n",
       "      <td>2h 28min</td>\n",
       "      <td>Action; Adventure; Sci-Fi;</td>\n",
       "      <td>16 July 2010 (USA)</td>\n",
       "      <td>8.8</td>\n",
       "      <td>1981675</td>\n",
       "      <td>3820</td>\n",
       "    </tr>\n",
       "    <tr>\n",
       "      <th>1</th>\n",
       "      <td>The Lord of the Rings: The Fellowship of the Ring</td>\n",
       "      <td>2001</td>\n",
       "      <td>PG-13</td>\n",
       "      <td>2h 58min</td>\n",
       "      <td>Action; Adventure; Drama;</td>\n",
       "      <td>19 December 2001 (USA)</td>\n",
       "      <td>8.8</td>\n",
       "      <td>1609165</td>\n",
       "      <td>5365</td>\n",
       "    </tr>\n",
       "    <tr>\n",
       "      <th>2</th>\n",
       "      <td>The Lord of the Rings: The Return of the King</td>\n",
       "      <td>2003</td>\n",
       "      <td>PG-13</td>\n",
       "      <td>3h 21min</td>\n",
       "      <td>Adventure; Drama; Fantasy;</td>\n",
       "      <td>17 December 2003 (USA)</td>\n",
       "      <td>8.9</td>\n",
       "      <td>1593859</td>\n",
       "      <td>3681</td>\n",
       "    </tr>\n",
       "    <tr>\n",
       "      <th>3</th>\n",
       "      <td>The Dark Knight Rises</td>\n",
       "      <td>2012</td>\n",
       "      <td>PG-13</td>\n",
       "      <td>2h 44min</td>\n",
       "      <td>Action; Adventure;</td>\n",
       "      <td>20 July 2012 (USA)</td>\n",
       "      <td>8.4</td>\n",
       "      <td>1470329</td>\n",
       "      <td>2979</td>\n",
       "    </tr>\n",
       "    <tr>\n",
       "      <th>4</th>\n",
       "      <td>The Lord of the Rings: The Two Towers</td>\n",
       "      <td>2002</td>\n",
       "      <td>PG-13</td>\n",
       "      <td>2h 59min</td>\n",
       "      <td>Adventure; Drama; Fantasy;</td>\n",
       "      <td>18 December 2002 (USA)</td>\n",
       "      <td>8.7</td>\n",
       "      <td>1440188</td>\n",
       "      <td>2559</td>\n",
       "    </tr>\n",
       "  </tbody>\n",
       "</table>\n",
       "</div>"
      ],
      "text/plain": [
       "                                                name  year movie_rated  \\\n",
       "0                                          Inception  2010       PG-13   \n",
       "1  The Lord of the Rings: The Fellowship of the Ring  2001       PG-13   \n",
       "2      The Lord of the Rings: The Return of the King  2003       PG-13   \n",
       "3                              The Dark Knight Rises  2012       PG-13   \n",
       "4              The Lord of the Rings: The Two Towers  2002       PG-13   \n",
       "\n",
       "  run_length                       genres            release_date  rating  \\\n",
       "0   2h 28min  Action; Adventure; Sci-Fi;       16 July 2010 (USA)     8.8   \n",
       "1   2h 58min   Action; Adventure; Drama;   19 December 2001 (USA)     8.8   \n",
       "2   3h 21min  Adventure; Drama; Fantasy;   17 December 2003 (USA)     8.9   \n",
       "3   2h 44min          Action; Adventure;       20 July 2012 (USA)     8.4   \n",
       "4   2h 59min  Adventure; Drama; Fantasy;   18 December 2002 (USA)     8.7   \n",
       "\n",
       "   num_raters  num_reviews  \n",
       "0     1981675         3820  \n",
       "1     1609165         5365  \n",
       "2     1593859         3681  \n",
       "3     1470329         2979  \n",
       "4     1440188         2559  "
      ]
     },
     "execution_count": 3,
     "metadata": {},
     "output_type": "execute_result"
    }
   ],
   "source": [
    "df= pd.read_csv(\"/kaggle/input/imdb-movies-dataset/merged_dataset.csv\")\n",
    "df.head()"
   ]
  },
  {
   "cell_type": "code",
   "execution_count": 4,
   "id": "404afa63",
   "metadata": {
    "execution": {
     "iopub.execute_input": "2025-02-19T15:45:29.791331Z",
     "iopub.status.busy": "2025-02-19T15:45:29.790972Z",
     "iopub.status.idle": "2025-02-19T15:45:29.803880Z",
     "shell.execute_reply": "2025-02-19T15:45:29.802666Z"
    },
    "papermill": {
     "duration": 0.020701,
     "end_time": "2025-02-19T15:45:29.805519",
     "exception": false,
     "start_time": "2025-02-19T15:45:29.784818",
     "status": "completed"
    },
    "tags": []
   },
   "outputs": [
    {
     "data": {
      "text/html": [
       "<div>\n",
       "<style scoped>\n",
       "    .dataframe tbody tr th:only-of-type {\n",
       "        vertical-align: middle;\n",
       "    }\n",
       "\n",
       "    .dataframe tbody tr th {\n",
       "        vertical-align: top;\n",
       "    }\n",
       "\n",
       "    .dataframe thead th {\n",
       "        text-align: right;\n",
       "    }\n",
       "</style>\n",
       "<table border=\"1\" class=\"dataframe\">\n",
       "  <thead>\n",
       "    <tr style=\"text-align: right;\">\n",
       "      <th></th>\n",
       "      <th>name</th>\n",
       "      <th>year</th>\n",
       "      <th>movie_rated</th>\n",
       "      <th>run_length</th>\n",
       "      <th>genres</th>\n",
       "      <th>release_date</th>\n",
       "      <th>rating</th>\n",
       "      <th>num_raters</th>\n",
       "      <th>num_reviews</th>\n",
       "    </tr>\n",
       "  </thead>\n",
       "  <tbody>\n",
       "    <tr>\n",
       "      <th>1495</th>\n",
       "      <td>Catch-22</td>\n",
       "      <td>1970</td>\n",
       "      <td>R</td>\n",
       "      <td>2h 2min</td>\n",
       "      <td>Comedy; Drama; War;</td>\n",
       "      <td>24 June 1970 (USA)</td>\n",
       "      <td>7.1</td>\n",
       "      <td>21424</td>\n",
       "      <td>145</td>\n",
       "    </tr>\n",
       "    <tr>\n",
       "      <th>1496</th>\n",
       "      <td>The Great Raid</td>\n",
       "      <td>2005</td>\n",
       "      <td>R</td>\n",
       "      <td>2h 12min</td>\n",
       "      <td>Action; Drama; War;</td>\n",
       "      <td>12 August 2005 (USA)</td>\n",
       "      <td>6.7</td>\n",
       "      <td>20965</td>\n",
       "      <td>194</td>\n",
       "    </tr>\n",
       "    <tr>\n",
       "      <th>1497</th>\n",
       "      <td>Saints and Soldiers</td>\n",
       "      <td>2003</td>\n",
       "      <td>PG-13</td>\n",
       "      <td>1h 30min</td>\n",
       "      <td>Action; Drama; War;</td>\n",
       "      <td>25 March 2005 (USA)</td>\n",
       "      <td>6.7</td>\n",
       "      <td>19730</td>\n",
       "      <td>163</td>\n",
       "    </tr>\n",
       "    <tr>\n",
       "      <th>1498</th>\n",
       "      <td>Stop-Loss</td>\n",
       "      <td>2008</td>\n",
       "      <td>R</td>\n",
       "      <td>1h 52min</td>\n",
       "      <td>Drama; War;</td>\n",
       "      <td>28 March 2008 (USA)</td>\n",
       "      <td>6.4</td>\n",
       "      <td>19456</td>\n",
       "      <td>102</td>\n",
       "    </tr>\n",
       "    <tr>\n",
       "      <th>1499</th>\n",
       "      <td>The Alamo</td>\n",
       "      <td>2004</td>\n",
       "      <td>PG-13</td>\n",
       "      <td>2h 17min</td>\n",
       "      <td>Drama; History; War;</td>\n",
       "      <td>9 April 2004 (USA)</td>\n",
       "      <td>6.0</td>\n",
       "      <td>19290</td>\n",
       "      <td>306</td>\n",
       "    </tr>\n",
       "  </tbody>\n",
       "</table>\n",
       "</div>"
      ],
      "text/plain": [
       "                     name  year movie_rated run_length                 genres  \\\n",
       "1495             Catch-22  1970           R    2h 2min   Comedy; Drama; War;    \n",
       "1496       The Great Raid  2005           R   2h 12min   Action; Drama; War;    \n",
       "1497  Saints and Soldiers  2003       PG-13   1h 30min   Action; Drama; War;    \n",
       "1498            Stop-Loss  2008           R   1h 52min           Drama; War;    \n",
       "1499            The Alamo  2004       PG-13   2h 17min  Drama; History; War;    \n",
       "\n",
       "              release_date  rating  num_raters  num_reviews  \n",
       "1495    24 June 1970 (USA)     7.1       21424          145  \n",
       "1496  12 August 2005 (USA)     6.7       20965          194  \n",
       "1497   25 March 2005 (USA)     6.7       19730          163  \n",
       "1498   28 March 2008 (USA)     6.4       19456          102  \n",
       "1499    9 April 2004 (USA)     6.0       19290          306  "
      ]
     },
     "execution_count": 4,
     "metadata": {},
     "output_type": "execute_result"
    }
   ],
   "source": [
    "df.tail()"
   ]
  },
  {
   "cell_type": "code",
   "execution_count": 5,
   "id": "f4c7ecc9",
   "metadata": {
    "execution": {
     "iopub.execute_input": "2025-02-19T15:45:29.818163Z",
     "iopub.status.busy": "2025-02-19T15:45:29.817826Z",
     "iopub.status.idle": "2025-02-19T15:45:29.829617Z",
     "shell.execute_reply": "2025-02-19T15:45:29.828766Z"
    },
    "papermill": {
     "duration": 0.020234,
     "end_time": "2025-02-19T15:45:29.831239",
     "exception": false,
     "start_time": "2025-02-19T15:45:29.811005",
     "status": "completed"
    },
    "tags": []
   },
   "outputs": [],
   "source": [
    "df=df.drop([\"movie_rated\",\"genres\",\"release_date\",\"name\"],axis=1)"
   ]
  },
  {
   "cell_type": "code",
   "execution_count": 6,
   "id": "d212d909",
   "metadata": {
    "execution": {
     "iopub.execute_input": "2025-02-19T15:45:29.843197Z",
     "iopub.status.busy": "2025-02-19T15:45:29.842830Z",
     "iopub.status.idle": "2025-02-19T15:45:29.848403Z",
     "shell.execute_reply": "2025-02-19T15:45:29.847472Z"
    },
    "papermill": {
     "duration": 0.013316,
     "end_time": "2025-02-19T15:45:29.850015",
     "exception": false,
     "start_time": "2025-02-19T15:45:29.836699",
     "status": "completed"
    },
    "tags": []
   },
   "outputs": [
    {
     "data": {
      "text/plain": [
       "(1500, 5)"
      ]
     },
     "execution_count": 6,
     "metadata": {},
     "output_type": "execute_result"
    }
   ],
   "source": [
    "df.shape"
   ]
  },
  {
   "cell_type": "code",
   "execution_count": 7,
   "id": "6a3df87e",
   "metadata": {
    "execution": {
     "iopub.execute_input": "2025-02-19T15:45:29.863020Z",
     "iopub.status.busy": "2025-02-19T15:45:29.862634Z",
     "iopub.status.idle": "2025-02-19T15:45:29.885327Z",
     "shell.execute_reply": "2025-02-19T15:45:29.883944Z"
    },
    "papermill": {
     "duration": 0.031257,
     "end_time": "2025-02-19T15:45:29.887166",
     "exception": false,
     "start_time": "2025-02-19T15:45:29.855909",
     "status": "completed"
    },
    "tags": []
   },
   "outputs": [
    {
     "name": "stdout",
     "output_type": "stream",
     "text": [
      "<class 'pandas.core.frame.DataFrame'>\n",
      "RangeIndex: 1500 entries, 0 to 1499\n",
      "Data columns (total 5 columns):\n",
      " #   Column       Non-Null Count  Dtype  \n",
      "---  ------       --------------  -----  \n",
      " 0   year         1500 non-null   int64  \n",
      " 1   run_length   1500 non-null   object \n",
      " 2   rating       1500 non-null   float64\n",
      " 3   num_raters   1500 non-null   int64  \n",
      " 4   num_reviews  1500 non-null   int64  \n",
      "dtypes: float64(1), int64(3), object(1)\n",
      "memory usage: 58.7+ KB\n"
     ]
    }
   ],
   "source": [
    "df.info()"
   ]
  },
  {
   "cell_type": "code",
   "execution_count": 8,
   "id": "3de7f175",
   "metadata": {
    "execution": {
     "iopub.execute_input": "2025-02-19T15:45:29.899644Z",
     "iopub.status.busy": "2025-02-19T15:45:29.899246Z",
     "iopub.status.idle": "2025-02-19T15:45:29.906714Z",
     "shell.execute_reply": "2025-02-19T15:45:29.905769Z"
    },
    "papermill": {
     "duration": 0.015535,
     "end_time": "2025-02-19T15:45:29.908323",
     "exception": false,
     "start_time": "2025-02-19T15:45:29.892788",
     "status": "completed"
    },
    "tags": []
   },
   "outputs": [
    {
     "data": {
      "text/plain": [
       "<bound method IndexOpsMixin.value_counts of 0       8.8\n",
       "1       8.8\n",
       "2       8.9\n",
       "3       8.4\n",
       "4       8.7\n",
       "       ... \n",
       "1495    7.1\n",
       "1496    6.7\n",
       "1497    6.7\n",
       "1498    6.4\n",
       "1499    6.0\n",
       "Name: rating, Length: 1500, dtype: float64>"
      ]
     },
     "execution_count": 8,
     "metadata": {},
     "output_type": "execute_result"
    }
   ],
   "source": [
    "df[\"rating\"].value_counts"
   ]
  },
  {
   "cell_type": "code",
   "execution_count": 9,
   "id": "a9e920a0",
   "metadata": {
    "execution": {
     "iopub.execute_input": "2025-02-19T15:45:29.920861Z",
     "iopub.status.busy": "2025-02-19T15:45:29.920421Z",
     "iopub.status.idle": "2025-02-19T15:45:30.529735Z",
     "shell.execute_reply": "2025-02-19T15:45:30.528651Z"
    },
    "papermill": {
     "duration": 0.617436,
     "end_time": "2025-02-19T15:45:30.531466",
     "exception": false,
     "start_time": "2025-02-19T15:45:29.914030",
     "status": "completed"
    },
    "tags": []
   },
   "outputs": [
    {
     "data": {
      "text/plain": [
       "<Axes: xlabel='rating', ylabel='count'>"
      ]
     },
     "execution_count": 9,
     "metadata": {},
     "output_type": "execute_result"
    },
    {
     "data": {
      "image/png": "[encoded data removed]",
      "text/plain": [
       "<Figure size 640x480 with 1 Axes>"
      ]
     },
     "metadata": {},
     "output_type": "display_data"
    }
   ],
   "source": [
    "sns.countplot(x=\"rating\",data=df)"
   ]
  },
  {
   "cell_type": "code",
   "execution_count": 10,
   "id": "537899bc",
   "metadata": {
    "execution": {
     "iopub.execute_input": "2025-02-19T15:45:30.546620Z",
     "iopub.status.busy": "2025-02-19T15:45:30.546245Z",
     "iopub.status.idle": "2025-02-19T15:45:30.572071Z",
     "shell.execute_reply": "2025-02-19T15:45:30.570997Z"
    },
    "papermill": {
     "duration": 0.035797,
     "end_time": "2025-02-19T15:45:30.574008",
     "exception": false,
     "start_time": "2025-02-19T15:45:30.538211",
     "status": "completed"
    },
    "tags": []
   },
   "outputs": [
    {
     "data": {
      "text/html": [
       "<div>\n",
       "<style scoped>\n",
       "    .dataframe tbody tr th:only-of-type {\n",
       "        vertical-align: middle;\n",
       "    }\n",
       "\n",
       "    .dataframe tbody tr th {\n",
       "        vertical-align: top;\n",
       "    }\n",
       "\n",
       "    .dataframe thead th {\n",
       "        text-align: right;\n",
       "    }\n",
       "</style>\n",
       "<table border=\"1\" class=\"dataframe\">\n",
       "  <thead>\n",
       "    <tr style=\"text-align: right;\">\n",
       "      <th></th>\n",
       "      <th>count</th>\n",
       "      <th>mean</th>\n",
       "      <th>std</th>\n",
       "      <th>min</th>\n",
       "      <th>25%</th>\n",
       "      <th>50%</th>\n",
       "      <th>75%</th>\n",
       "      <th>max</th>\n",
       "    </tr>\n",
       "  </thead>\n",
       "  <tbody>\n",
       "    <tr>\n",
       "      <th>year</th>\n",
       "      <td>1500.0</td>\n",
       "      <td>2002.632000</td>\n",
       "      <td>14.758516</td>\n",
       "      <td>1915.0</td>\n",
       "      <td>1998.00</td>\n",
       "      <td>2006.0</td>\n",
       "      <td>2012.00</td>\n",
       "      <td>2020.0</td>\n",
       "    </tr>\n",
       "    <tr>\n",
       "      <th>rating</th>\n",
       "      <td>1500.0</td>\n",
       "      <td>7.477600</td>\n",
       "      <td>0.725035</td>\n",
       "      <td>3.5</td>\n",
       "      <td>7.00</td>\n",
       "      <td>7.6</td>\n",
       "      <td>8.00</td>\n",
       "      <td>9.3</td>\n",
       "    </tr>\n",
       "    <tr>\n",
       "      <th>num_raters</th>\n",
       "      <td>1500.0</td>\n",
       "      <td>411674.587333</td>\n",
       "      <td>318168.620883</td>\n",
       "      <td>19290.0</td>\n",
       "      <td>191244.50</td>\n",
       "      <td>341452.0</td>\n",
       "      <td>565403.00</td>\n",
       "      <td>2258845.0</td>\n",
       "    </tr>\n",
       "    <tr>\n",
       "      <th>num_reviews</th>\n",
       "      <td>1500.0</td>\n",
       "      <td>996.054667</td>\n",
       "      <td>1009.968589</td>\n",
       "      <td>102.0</td>\n",
       "      <td>424.75</td>\n",
       "      <td>724.5</td>\n",
       "      <td>1223.25</td>\n",
       "      <td>10279.0</td>\n",
       "    </tr>\n",
       "  </tbody>\n",
       "</table>\n",
       "</div>"
      ],
      "text/plain": [
       "              count           mean            std      min        25%  \\\n",
       "year         1500.0    2002.632000      14.758516   1915.0    1998.00   \n",
       "rating       1500.0       7.477600       0.725035      3.5       7.00   \n",
       "num_raters   1500.0  411674.587333  318168.620883  19290.0  191244.50   \n",
       "num_reviews  1500.0     996.054667    1009.968589    102.0     424.75   \n",
       "\n",
       "                  50%        75%        max  \n",
       "year           2006.0    2012.00     2020.0  \n",
       "rating            7.6       8.00        9.3  \n",
       "num_raters   341452.0  565403.00  2258845.0  \n",
       "num_reviews     724.5    1223.25    10279.0  "
      ]
     },
     "execution_count": 10,
     "metadata": {},
     "output_type": "execute_result"
    }
   ],
   "source": [
    "df.describe().T"
   ]
  },
  {
   "cell_type": "code",
   "execution_count": 11,
   "id": "d03ffc61",
   "metadata": {
    "execution": {
     "iopub.execute_input": "2025-02-19T15:45:30.589049Z",
     "iopub.status.busy": "2025-02-19T15:45:30.588650Z",
     "iopub.status.idle": "2025-02-19T15:45:30.599356Z",
     "shell.execute_reply": "2025-02-19T15:45:30.598269Z"
    },
    "papermill": {
     "duration": 0.02049,
     "end_time": "2025-02-19T15:45:30.601098",
     "exception": false,
     "start_time": "2025-02-19T15:45:30.580608",
     "status": "completed"
    },
    "tags": []
   },
   "outputs": [],
   "source": [
    "def convert_to_minutes(time_str):\n",
    "    hours = re.search(r'(\\d+)h', time_str)  # Saat değerini bul\n",
    "    minutes = re.search(r'(\\d+)min', time_str)  # Dakika değerini bul\n",
    "\n",
    "    # Saat ve dakikayı hesapla\n",
    "    total_minutes = (int(hours.group(1)) * 60 if hours else 0) + (int(minutes.group(1)) if minutes else 0)\n",
    "    return total_minutes\n",
    "\n",
    "# Uygulama\n",
    "df['run_length'] = df['run_length'].apply(convert_to_minutes)"
   ]
  },
  {
   "cell_type": "code",
   "execution_count": 12,
   "id": "1e0b9977",
   "metadata": {
    "execution": {
     "iopub.execute_input": "2025-02-19T15:45:30.615620Z",
     "iopub.status.busy": "2025-02-19T15:45:30.615209Z",
     "iopub.status.idle": "2025-02-19T15:45:31.037084Z",
     "shell.execute_reply": "2025-02-19T15:45:31.035959Z"
    },
    "papermill": {
     "duration": 0.431056,
     "end_time": "2025-02-19T15:45:31.038905",
     "exception": false,
     "start_time": "2025-02-19T15:45:30.607849",
     "status": "completed"
    },
    "tags": []
   },
   "outputs": [
    {
     "data": {
      "text/plain": [
       "<Axes: >"
      ]
     },
     "execution_count": 12,
     "metadata": {},
     "output_type": "execute_result"
    },
    {
     "data": {
      "image/png": "[encoded data removed]",
      "text/plain": [
       "<Figure size 640x480 with 2 Axes>"
      ]
     },
     "metadata": {},
     "output_type": "display_data"
    }
   ],
   "source": [
    "corr = df.corr()\n",
    "sns.heatmap(corr, annot=True, cmap='coolwarm', linewidths=0.5)\n"
   ]
  },
  {
   "cell_type": "code",
   "execution_count": 13,
   "id": "71c39ef7",
   "metadata": {
    "execution": {
     "iopub.execute_input": "2025-02-19T15:45:31.055067Z",
     "iopub.status.busy": "2025-02-19T15:45:31.054682Z",
     "iopub.status.idle": "2025-02-19T15:45:31.185881Z",
     "shell.execute_reply": "2025-02-19T15:45:31.184809Z"
    },
    "papermill": {
     "duration": 0.141241,
     "end_time": "2025-02-19T15:45:31.187559",
     "exception": false,
     "start_time": "2025-02-19T15:45:31.046318",
     "status": "completed"
    },
    "tags": []
   },
   "outputs": [
    {
     "data": {
      "text/plain": [
       "<Axes: >"
      ]
     },
     "execution_count": 13,
     "metadata": {},
     "output_type": "execute_result"
    },
    {
     "data": {
      "image/png": "[encoded data removed]",
      "text/plain": [
       "<Figure size 640x480 with 1 Axes>"
      ]
     },
     "metadata": {},
     "output_type": "display_data"
    }
   ],
   "source": [
    "sns.boxplot(df[\"num_raters\"])\n",
    "\n"
   ]
  },
  {
   "cell_type": "code",
   "execution_count": 14,
   "id": "9ebdad94",
   "metadata": {
    "execution": {
     "iopub.execute_input": "2025-02-19T15:45:31.204489Z",
     "iopub.status.busy": "2025-02-19T15:45:31.204146Z",
     "iopub.status.idle": "2025-02-19T15:45:31.356888Z",
     "shell.execute_reply": "2025-02-19T15:45:31.355665Z"
    },
    "papermill": {
     "duration": 0.163154,
     "end_time": "2025-02-19T15:45:31.358661",
     "exception": false,
     "start_time": "2025-02-19T15:45:31.195507",
     "status": "completed"
    },
    "tags": []
   },
   "outputs": [
    {
     "data": {
      "text/plain": [
       "<Axes: >"
      ]
     },
     "execution_count": 14,
     "metadata": {},
     "output_type": "execute_result"
    },
    {
     "data": {
      "image/png": "[encoded data removed]",
      "text/plain": [
       "<Figure size 640x480 with 1 Axes>"
      ]
     },
     "metadata": {},
     "output_type": "display_data"
    }
   ],
   "source": [
    "sns.boxplot(df[\"num_reviews\"])\n"
   ]
  },
  {
   "cell_type": "code",
   "execution_count": 15,
   "id": "3e006532",
   "metadata": {
    "execution": {
     "iopub.execute_input": "2025-02-19T15:45:31.378211Z",
     "iopub.status.busy": "2025-02-19T15:45:31.377705Z",
     "iopub.status.idle": "2025-02-19T15:45:31.941151Z",
     "shell.execute_reply": "2025-02-19T15:45:31.940038Z"
    },
    "papermill": {
     "duration": 0.575569,
     "end_time": "2025-02-19T15:45:31.942890",
     "exception": false,
     "start_time": "2025-02-19T15:45:31.367321",
     "status": "completed"
    },
    "tags": []
   },
   "outputs": [
    {
     "data": {
      "text/plain": [
       "<Axes: xlabel='num_reviews', ylabel='num_raters'>"
      ]
     },
     "execution_count": 15,
     "metadata": {},
     "output_type": "execute_result"
    },
    {
     "data": {
      "image/png": "[encoded data removed]",
      "text/plain": [
       "<Figure size 640x480 with 1 Axes>"
      ]
     },
     "metadata": {},
     "output_type": "display_data"
    }
   ],
   "source": [
    "sns.scatterplot(x=\"num_reviews\" , y=\"num_raters\",hue=\"rating\", data=df)"
   ]
  },
  {
   "cell_type": "code",
   "execution_count": 16,
   "id": "0613ee49",
   "metadata": {
    "execution": {
     "iopub.execute_input": "2025-02-19T15:45:31.964498Z",
     "iopub.status.busy": "2025-02-19T15:45:31.964173Z",
     "iopub.status.idle": "2025-02-19T15:45:31.972047Z",
     "shell.execute_reply": "2025-02-19T15:45:31.971025Z"
    },
    "papermill": {
     "duration": 0.02027,
     "end_time": "2025-02-19T15:45:31.973624",
     "exception": false,
     "start_time": "2025-02-19T15:45:31.953354",
     "status": "completed"
    },
    "tags": []
   },
   "outputs": [
    {
     "data": {
      "text/plain": [
       "year           0\n",
       "run_length     0\n",
       "rating         0\n",
       "num_raters     0\n",
       "num_reviews    0\n",
       "dtype: int64"
      ]
     },
     "execution_count": 16,
     "metadata": {},
     "output_type": "execute_result"
    }
   ],
   "source": [
    "df.isnull().sum()"
   ]
  },
  {
   "cell_type": "code",
   "execution_count": 17,
   "id": "e8175da3",
   "metadata": {
    "execution": {
     "iopub.execute_input": "2025-02-19T15:45:31.994638Z",
     "iopub.status.busy": "2025-02-19T15:45:31.994249Z",
     "iopub.status.idle": "2025-02-19T15:45:32.004021Z",
     "shell.execute_reply": "2025-02-19T15:45:32.003125Z"
    },
    "papermill": {
     "duration": 0.022339,
     "end_time": "2025-02-19T15:45:32.005775",
     "exception": false,
     "start_time": "2025-02-19T15:45:31.983436",
     "status": "completed"
    },
    "tags": []
   },
   "outputs": [
    {
     "data": {
      "text/html": [
       "<div>\n",
       "<style scoped>\n",
       "    .dataframe tbody tr th:only-of-type {\n",
       "        vertical-align: middle;\n",
       "    }\n",
       "\n",
       "    .dataframe tbody tr th {\n",
       "        vertical-align: top;\n",
       "    }\n",
       "\n",
       "    .dataframe thead th {\n",
       "        text-align: right;\n",
       "    }\n",
       "</style>\n",
       "<table border=\"1\" class=\"dataframe\">\n",
       "  <thead>\n",
       "    <tr style=\"text-align: right;\">\n",
       "      <th></th>\n",
       "      <th>year</th>\n",
       "      <th>run_length</th>\n",
       "      <th>rating</th>\n",
       "      <th>num_raters</th>\n",
       "      <th>num_reviews</th>\n",
       "    </tr>\n",
       "  </thead>\n",
       "  <tbody>\n",
       "    <tr>\n",
       "      <th>0</th>\n",
       "      <td>2010</td>\n",
       "      <td>148</td>\n",
       "      <td>8.8</td>\n",
       "      <td>1981675</td>\n",
       "      <td>3820</td>\n",
       "    </tr>\n",
       "    <tr>\n",
       "      <th>1</th>\n",
       "      <td>2001</td>\n",
       "      <td>178</td>\n",
       "      <td>8.8</td>\n",
       "      <td>1609165</td>\n",
       "      <td>5365</td>\n",
       "    </tr>\n",
       "    <tr>\n",
       "      <th>2</th>\n",
       "      <td>2003</td>\n",
       "      <td>201</td>\n",
       "      <td>8.9</td>\n",
       "      <td>1593859</td>\n",
       "      <td>3681</td>\n",
       "    </tr>\n",
       "  </tbody>\n",
       "</table>\n",
       "</div>"
      ],
      "text/plain": [
       "   year  run_length  rating  num_raters  num_reviews\n",
       "0  2010         148     8.8     1981675         3820\n",
       "1  2001         178     8.8     1609165         5365\n",
       "2  2003         201     8.9     1593859         3681"
      ]
     },
     "execution_count": 17,
     "metadata": {},
     "output_type": "execute_result"
    }
   ],
   "source": [
    "df.head(3)"
   ]
  },
  {
   "cell_type": "code",
   "execution_count": 18,
   "id": "aa8400ec",
   "metadata": {
    "execution": {
     "iopub.execute_input": "2025-02-19T15:45:32.027566Z",
     "iopub.status.busy": "2025-02-19T15:45:32.027181Z",
     "iopub.status.idle": "2025-02-19T15:45:32.032646Z",
     "shell.execute_reply": "2025-02-19T15:45:32.031517Z"
    },
    "papermill": {
     "duration": 0.018088,
     "end_time": "2025-02-19T15:45:32.034331",
     "exception": false,
     "start_time": "2025-02-19T15:45:32.016243",
     "status": "completed"
    },
    "tags": []
   },
   "outputs": [],
   "source": [
    "x=df.drop([\"rating\"],axis=1)\n",
    "y=df[\"rating\"]"
   ]
  },
  {
   "cell_type": "code",
   "execution_count": 19,
   "id": "cb6fa32f",
   "metadata": {
    "execution": {
     "iopub.execute_input": "2025-02-19T15:45:32.056425Z",
     "iopub.status.busy": "2025-02-19T15:45:32.056054Z",
     "iopub.status.idle": "2025-02-19T15:45:32.063418Z",
     "shell.execute_reply": "2025-02-19T15:45:32.062320Z"
    },
    "papermill": {
     "duration": 0.020455,
     "end_time": "2025-02-19T15:45:32.065280",
     "exception": false,
     "start_time": "2025-02-19T15:45:32.044825",
     "status": "completed"
    },
    "tags": []
   },
   "outputs": [],
   "source": [
    "x_train,x_test,y_train,y_test = train_test_split(x,y,test_size=0.25,random_state=36)"
   ]
  },
  {
   "cell_type": "code",
   "execution_count": 20,
   "id": "3897b419",
   "metadata": {
    "execution": {
     "iopub.execute_input": "2025-02-19T15:45:32.087031Z",
     "iopub.status.busy": "2025-02-19T15:45:32.086674Z",
     "iopub.status.idle": "2025-02-19T15:45:32.097251Z",
     "shell.execute_reply": "2025-02-19T15:45:32.096317Z"
    },
    "papermill": {
     "duration": 0.023399,
     "end_time": "2025-02-19T15:45:32.099080",
     "exception": false,
     "start_time": "2025-02-19T15:45:32.075681",
     "status": "completed"
    },
    "tags": []
   },
   "outputs": [],
   "source": [
    "sc=StandardScaler()\n",
    "x_train = sc.fit_transform(x_train)\n",
    "x_test=sc.transform(x_test)\n",
    "\n"
   ]
  },
  {
   "cell_type": "code",
   "execution_count": 21,
   "id": "e384a0e1",
   "metadata": {
    "execution": {
     "iopub.execute_input": "2025-02-19T15:45:32.120685Z",
     "iopub.status.busy": "2025-02-19T15:45:32.120263Z",
     "iopub.status.idle": "2025-02-19T15:45:32.404007Z",
     "shell.execute_reply": "2025-02-19T15:45:32.403122Z"
    },
    "papermill": {
     "duration": 0.296629,
     "end_time": "2025-02-19T15:45:32.405835",
     "exception": false,
     "start_time": "2025-02-19T15:45:32.109206",
     "status": "completed"
    },
    "tags": []
   },
   "outputs": [],
   "source": [
    "from xgboost import XGBRegressor\n",
    "XGBoostRegressor= XGBoostRegressor = XGBRegressor(n_estimators=800, learning_rate=0.01, max_depth=50, subsample=0.8, colsample_bytree=0.8)\n"
   ]
  },
  {
   "cell_type": "code",
   "execution_count": 22,
   "id": "678f5a4c",
   "metadata": {
    "execution": {
     "iopub.execute_input": "2025-02-19T15:45:32.428799Z",
     "iopub.status.busy": "2025-02-19T15:45:32.428370Z",
     "iopub.status.idle": "2025-02-19T15:45:36.203217Z",
     "shell.execute_reply": "2025-02-19T15:45:36.202366Z"
    },
    "papermill": {
     "duration": 3.78817,
     "end_time": "2025-02-19T15:45:36.205345",
     "exception": false,
     "start_time": "2025-02-19T15:45:32.417175",
     "status": "completed"
    },
    "tags": []
   },
   "outputs": [
    {
     "name": "stdout",
     "output_type": "stream",
     "text": [
      "XGBoost Regressor:\n",
      "MSE: 0.1680725159254574\n",
      "R2 Score: 61.83%\n",
      "\n"
     ]
    }
   ],
   "source": [
    "\n",
    "XGBoostRegressor.fit(x_train, y_train)\n",
    "xgb_predictions = XGBoostRegressor.predict(x_test)\n",
    "r2_percentage = r2_score(y_test, xgb_predictions) * 100\n",
    "print(\"XGBoost Regressor:\")\n",
    "print(\"MSE:\", mean_squared_error(y_test, xgb_predictions))\n",
    "print(\"R2 Score: {:.2f}%\".format(r2_percentage))\n",
    "print()"
   ]
  },
  {
   "cell_type": "code",
   "execution_count": 23,
   "id": "cb5f73bb",
   "metadata": {
    "execution": {
     "iopub.execute_input": "2025-02-19T15:45:36.230090Z",
     "iopub.status.busy": "2025-02-19T15:45:36.229670Z",
     "iopub.status.idle": "2025-02-19T15:45:36.237753Z",
     "shell.execute_reply": "2025-02-19T15:45:36.236641Z"
    },
    "papermill": {
     "duration": 0.021021,
     "end_time": "2025-02-19T15:45:36.239231",
     "exception": false,
     "start_time": "2025-02-19T15:45:36.218210",
     "status": "completed"
    },
    "tags": []
   },
   "outputs": [
    {
     "name": "stdout",
     "output_type": "stream",
     "text": [
      "      predictions  Real value\n",
      "589      8.499863         8.5\n",
      "162      7.132419         7.9\n",
      "900      8.471533         8.5\n",
      "171      7.336599         7.7\n",
      "688      7.436744         6.8\n",
      "...           ...         ...\n",
      "308      8.295585         8.3\n",
      "188      7.571162         8.0\n",
      "1349     7.306255         7.3\n",
      "635      7.898934         7.9\n",
      "880      7.470027         7.4\n",
      "\n",
      "[375 rows x 2 columns]\n"
     ]
    }
   ],
   "source": [
    "datas = pd.DataFrame({\"predictions\": xgb_predictions, \"Real value\": y_test})\n",
    "print(datas)"
   ]
  }
 ],
 "metadata": {
  "kaggle": {
   "accelerator": "none",
   "dataSources": [
    {
     "datasetId": 6655791,
     "sourceId": 10734594,
     "sourceType": "datasetVersion"
    }
   ],
   "dockerImageVersionId": 30886,
   "isGpuEnabled": false,
   "isInternetEnabled": true,
   "language": "python",
   "sourceType": "notebook"
  },
  "kernelspec": {
   "display_name": "Python 3",
   "language": "python",
   "name": "python3"
  },
  "language_info": {
   "codemirror_mode": {
    "name": "ipython",
    "version": 3
   },
   "file_extension": ".py",
   "mimetype": "text/x-python",
   "name": "python",
   "nbconvert_exporter": "python",
   "pygments_lexer": "ipython3",
   "version": "3.10.12"
  },
  "papermill": {
   "default_parameters": {},
   "duration": 13.263266,
   "end_time": "2025-02-19T15:45:37.071554",
   "environment_variables": {},
   "exception": null,
   "input_path": "__notebook__.ipynb",
   "output_path": "__notebook__.ipynb",
   "parameters": {},
   "start_time": "2025-02-19T15:45:23.808288",
   "version": "2.6.0"
  }
 },
 "nbformat": 4,
 "nbformat_minor": 5
}
